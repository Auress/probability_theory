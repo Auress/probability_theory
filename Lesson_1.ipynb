{
 "cells": [
  {
   "cell_type": "markdown",
   "metadata": {},
   "source": [
    "### Урок 1. Случайные события. Условная вероятность. Формула Байеса. Независимые испытания#"
   ]
  },
  {
   "cell_type": "markdown",
   "metadata": {},
   "source": [
    "### -- Автор: Шенк Евгений Станиславович"
   ]
  },
  {
   "cell_type": "code",
   "execution_count": 1,
   "metadata": {},
   "outputs": [],
   "source": [
    "import math\n",
    "import numpy as np"
   ]
  },
  {
   "cell_type": "markdown",
   "metadata": {},
   "source": [
    "### Задание 1."
   ]
  },
  {
   "cell_type": "markdown",
   "metadata": {},
   "source": [
    "Из колоды в 52 карты вынимают случайным образом 4 карты. Найти число исходов, соответствующих тому, что был вытянут хотя бы один туз."
   ]
  },
  {
   "cell_type": "markdown",
   "metadata": {},
   "source": [
    "A - число исходов, соответствующих тому, что был вытянут хотя бы один туз\n",
    "\n",
    "Найдем A как разность между числом исходов при всех 52 картах и исходах без тузов (48 карт)"
   ]
  },
  {
   "cell_type": "markdown",
   "metadata": {},
   "source": [
    "$$C_{52}^4 = \\frac{52!}{4! \\: (52 - 4)!} = \\frac{52!}{4! \\: 48!} = \\frac{49 \\cdot 50 \\cdot 51 \\cdot 52}{4!} = \\frac{49 \\cdot 50 \\cdot 51 \\cdot 52}{2 \\cdot 3 \\cdot 4} = 270725$$"
   ]
  },
  {
   "cell_type": "markdown",
   "metadata": {},
   "source": [
    "$$C_{48}^4 = \\frac{48!}{4! \\: (48 - 4)!} = \\frac{48!}{4! \\: 44!} = \\frac{45 \\cdot 46 \\cdot 47 \\cdot 48}{4!} = \\frac{45 \\cdot 46 \\cdot 47 \\cdot 48}{2 \\cdot 3 \\cdot 4} = 194580$$"
   ]
  },
  {
   "cell_type": "markdown",
   "metadata": {},
   "source": [
    "$$A = 270725 - 194580 = 76145$$"
   ]
  },
  {
   "cell_type": "code",
   "execution_count": 2,
   "metadata": {},
   "outputs": [],
   "source": [
    "def combinations(n: int, k: int) -> int:\n",
    "    \"\"\"Число сочетаний.\n",
    "    \"\"\"\n",
    "    \n",
    "    return np.math.factorial(n) // (np.math.factorial(k) * np.math.factorial(n - k))"
   ]
  },
  {
   "cell_type": "code",
   "execution_count": 3,
   "metadata": {},
   "outputs": [
    {
     "data": {
      "text/plain": [
       "76145"
      ]
     },
     "execution_count": 3,
     "metadata": {},
     "output_type": "execute_result"
    }
   ],
   "source": [
    "A = combinations(52, 4) - combinations(48, 4)\n",
    "A"
   ]
  },
  {
   "cell_type": "markdown",
   "metadata": {},
   "source": [
    "Ответ: 76145"
   ]
  },
  {
   "cell_type": "markdown",
   "metadata": {},
   "source": [
    "### Задание 2."
   ]
  },
  {
   "cell_type": "markdown",
   "metadata": {},
   "source": [
    "Семь человек рассаживаются наудачу на скамейке. Какова вероятность того, что рядом будут сидеть: а) два определённых человека? б) три определённых человека?"
   ]
  },
  {
   "cell_type": "markdown",
   "metadata": {},
   "source": [
    "$$P(A) = \\dfrac{m}{n}.$$"
   ]
  },
  {
   "cell_type": "code",
   "execution_count": 4,
   "metadata": {},
   "outputs": [
    {
     "data": {
      "text/plain": [
       "5040"
      ]
     },
     "execution_count": 4,
     "metadata": {},
     "output_type": "execute_result"
    }
   ],
   "source": [
    "n = math.factorial(7)\n",
    "n"
   ]
  },
  {
   "cell_type": "markdown",
   "metadata": {},
   "source": [
    "количество исходов всего: n = 5040"
   ]
  },
  {
   "cell_type": "markdown",
   "metadata": {},
   "source": [
    "а) два определённых человека\n",
    "\n",
    "могут меняться между собой местами и занять одну из 6 позиций (1-2, 2-3, 3-4, 4-5, 5-6, 6-7)\n",
    "\n",
    "m1 = 2! * 6 = 12 - количество успешных исходов"
   ]
  },
  {
   "cell_type": "markdown",
   "metadata": {},
   "source": [
    "$$P(A) = \\dfrac{m1}{n} = \\dfrac{12}{5040} = 0,002381.$$"
   ]
  },
  {
   "cell_type": "markdown",
   "metadata": {},
   "source": [
    "б) три определённых человека\n",
    "\n",
    "могут меняться между собой местами и занять одну из 5 позиций (1-2-3, 2-3-4, 3-4-5, 4-5-6, 5-6-7)\n",
    "\n",
    "m2 = 3! * 5 = 6 * 5 = 30 - количество успешных исходов"
   ]
  },
  {
   "cell_type": "markdown",
   "metadata": {},
   "source": [
    "$$P(A) = \\dfrac{m2}{n} = \\dfrac{30}{5040} = 0,005952.$$"
   ]
  },
  {
   "cell_type": "markdown",
   "metadata": {},
   "source": [
    "### Задание 3."
   ]
  },
  {
   "cell_type": "markdown",
   "metadata": {},
   "source": [
    "Из 60 вопросов, входящих в экзаменационные билеты, студент знает 50. Какова вероятность того, что среди трёх наугад выбранных вопросов студент знает: а) все? б) два?"
   ]
  },
  {
   "cell_type": "code",
   "execution_count": 5,
   "metadata": {},
   "outputs": [],
   "source": [
    "def arrangements(n: int, k: int) -> int:\n",
    "    \"\"\"Число размещений.\n",
    "    \"\"\"\n",
    "    \n",
    "    return np.math.factorial(n) // np.math.factorial(n - k)"
   ]
  },
  {
   "cell_type": "markdown",
   "metadata": {},
   "source": [
    "а) Знает все?"
   ]
  },
  {
   "cell_type": "markdown",
   "metadata": {},
   "source": [
    "$$P(A) =\\dfrac{50}{60} \\cdot \\dfrac{49}{59} \\cdot \\dfrac{48}{58}  = \\dfrac{117600}{205320} = 0.5728$$"
   ]
  },
  {
   "cell_type": "markdown",
   "metadata": {},
   "source": [
    "После каждого вопроса общее количество и количество выученных вопросов уменьшается на 1"
   ]
  },
  {
   "cell_type": "code",
   "execution_count": 6,
   "metadata": {},
   "outputs": [
    {
     "data": {
      "text/plain": [
       "0.5727644652250146"
      ]
     },
     "execution_count": 6,
     "metadata": {},
     "output_type": "execute_result"
    }
   ],
   "source": [
    "arrangements(50, 3) / arrangements(60, 3)"
   ]
  },
  {
   "cell_type": "markdown",
   "metadata": {},
   "source": [
    "Ответ: 0,5728"
   ]
  },
  {
   "cell_type": "markdown",
   "metadata": {},
   "source": [
    "б) Знает два?"
   ]
  },
  {
   "cell_type": "markdown",
   "metadata": {},
   "source": [
    "$$P(A) =\\dfrac{50}{60} \\cdot \\dfrac{49}{59} \\cdot \\dfrac{10}{58}  = \\dfrac{24500}{205320} = 0.1193$$"
   ]
  },
  {
   "cell_type": "markdown",
   "metadata": {},
   "source": [
    "Два раза берем количество успехов и один раз неудачи (60 - 50 = 10)"
   ]
  },
  {
   "cell_type": "code",
   "execution_count": 7,
   "metadata": {},
   "outputs": [
    {
     "data": {
      "text/plain": [
       "0.11932593025521138"
      ]
     },
     "execution_count": 7,
     "metadata": {},
     "output_type": "execute_result"
    }
   ],
   "source": [
    "arrangements(50, 2) * arrangements(10, 1) / arrangements(60, 3)"
   ]
  },
  {
   "cell_type": "markdown",
   "metadata": {},
   "source": [
    "Ответ: 0,1193"
   ]
  },
  {
   "cell_type": "markdown",
   "metadata": {},
   "source": [
    "### Задание 4."
   ]
  },
  {
   "cell_type": "markdown",
   "metadata": {},
   "source": [
    "Бросается игральная кость. Пусть событие A - появление чётного числа, событие B - появление числа больше трёх. Являются ли эти события независимыми?"
   ]
  },
  {
   "cell_type": "markdown",
   "metadata": {},
   "source": [
    "$P(A) = 1/2$ (три числа (2, 4, 6) из шести)\n",
    "\n",
    "$P(B) = 1/2$ (три числа (4, 5, 6) из шести)"
   ]
  },
  {
   "cell_type": "markdown",
   "metadata": {},
   "source": [
    "Посчитаем совместную вероятность $P(AB)$. Событие $AB$ соответствует выбору числа 4 или 6, т.е. $P(AB) = 2/6 = 1/3$. Следовательно, $$P(A|B) = \\dfrac{P(AB)}{P(B)} = \\dfrac{\\frac{1}{3}}{\\frac{1}{2}} = \\dfrac{2}{3}.$$\n",
    "\n",
    "Поскольку $P(A|B) \\neq P(A); \\dfrac{2}{3} \\neq \\dfrac{1}{2}$, заключаем, что события $A$ и $B$ зависимы."
   ]
  },
  {
   "cell_type": "markdown",
   "metadata": {},
   "source": [
    "Ответ: не являются независимыми"
   ]
  },
  {
   "cell_type": "markdown",
   "metadata": {},
   "source": [
    "### Задание 5."
   ]
  },
  {
   "cell_type": "markdown",
   "metadata": {},
   "source": [
    "Допустим, имеется некоторая очень редкая болезнь (поражает 0.1% населения). Вы приходите к врачу, вам делают тест на эту болезнь, и тест оказывается положительным. Врач говорит вам, что этот тест верно выявляет 99% больных этой болезнью и всего лишь в 1% случаев даёт ложный положительный ответ.\n",
    "\n",
    "Вопрос: какова вероятность, что вы действительно больны ей?\n",
    "\n",
    "Подсказка: вновь используйте формулу Байеса с раскрытием знаменателя с помощью формулы полной вероятности."
   ]
  },
  {
   "cell_type": "markdown",
   "metadata": {},
   "source": [
    "$$P(A|B) = \\dfrac{P(B|A) \\cdot P(A)}{P(B)}$$"
   ]
  },
  {
   "cell_type": "markdown",
   "metadata": {},
   "source": [
    "$$P(B) = P(B | H_1) \\cdot P(H_1) + P(B | H_2) \\cdot P(H_2) + \\dots + P(B | H_n) \\cdot P(H_n).$$"
   ]
  },
  {
   "cell_type": "markdown",
   "metadata": {},
   "source": [
    "P(B|H_1) - вероятность заболевания: 0,001\n",
    "\n",
    "P(B|H_2) - вероятность что здоров: 0,999\n",
    "\n",
    "P(A) - действительно болен: 0,001\n",
    "\n",
    "P(B) - вероятность быть признаным больным (рассчитаем полную вероятность)\n",
    "\n",
    "P(B|A) - вероятность корректного определения больного: 0,99"
   ]
  },
  {
   "cell_type": "markdown",
   "metadata": {},
   "source": [
    "$$P(B) = 0.001 \\cdot 0.99 + 0.999 \\cdot 0.01 = 0.01098.$$"
   ]
  },
  {
   "cell_type": "markdown",
   "metadata": {},
   "source": [
    "$$P(A|B) = \\dfrac{0.001 \\cdot 0.99}{0.001 \\cdot 0.99 + 0.999 \\cdot 0.01} = 0.090164.$$"
   ]
  },
  {
   "cell_type": "markdown",
   "metadata": {},
   "source": [
    "Ответ: вероятность, что вы действительно больны ей всего около 9%"
   ]
  },
  {
   "cell_type": "code",
   "execution_count": null,
   "metadata": {},
   "outputs": [],
   "source": []
  }
 ],
 "metadata": {
  "kernelspec": {
   "display_name": "Python 3",
   "language": "python",
   "name": "python3"
  },
  "language_info": {
   "codemirror_mode": {
    "name": "ipython",
    "version": 3
   },
   "file_extension": ".py",
   "mimetype": "text/x-python",
   "name": "python",
   "nbconvert_exporter": "python",
   "pygments_lexer": "ipython3",
   "version": "3.7.3"
  }
 },
 "nbformat": 4,
 "nbformat_minor": 2
}
