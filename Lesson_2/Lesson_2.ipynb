{
 "cells": [
  {
   "cell_type": "markdown",
   "metadata": {},
   "source": [
    "### Урок 2. Дискретные случайные величины. Закон распределения вероятностей. Биномиальный закон распределения. Распределение Пуассона#"
   ]
  },
  {
   "cell_type": "markdown",
   "metadata": {},
   "source": [
    "### -- Автор: Шенк Евгений Станиславович"
   ]
  },
  {
   "cell_type": "code",
   "execution_count": 1,
   "metadata": {},
   "outputs": [],
   "source": [
    "import math\n",
    "import numpy as np"
   ]
  },
  {
   "cell_type": "markdown",
   "metadata": {},
   "source": [
    "### Задание 1."
   ]
  },
  {
   "cell_type": "markdown",
   "metadata": {},
   "source": [
    "Контрольная работа состоит из пяти вопросов. На каждый вопрос приведено четыре варианта ответа, один из которых правильный. Составьте закон распределения числа правильных ответов при простом угадывании. Найдите M(X), D(X)."
   ]
  },
  {
   "cell_type": "markdown",
   "metadata": {},
   "source": [
    "т.к. вопросы не зависят друг от друга, то\n",
    "m = 1\n",
    "n = 4\n",
    "$$P(A) = \\dfrac{m}{n} = \\dfrac{1}{4} = 0.25.$$"
   ]
  },
  {
   "cell_type": "code",
   "execution_count": 2,
   "metadata": {},
   "outputs": [],
   "source": [
    "def binom(n: int, k: int, p: float) -> float:\n",
    "    \"\"\"Биномиальное распределение.\n",
    "    \"\"\"\n",
    "    \n",
    "    return (np.math.factorial(n) // (np.math.factorial(k) * np.math.factorial(n - k))) * p**k * (1-p)**(n-k)"
   ]
  },
  {
   "cell_type": "code",
   "execution_count": 3,
   "metadata": {},
   "outputs": [
    {
     "data": {
      "text/plain": [
       "array([0, 1, 2, 3, 4, 5])"
      ]
     },
     "execution_count": 3,
     "metadata": {},
     "output_type": "execute_result"
    }
   ],
   "source": [
    "#Вероятности выбрать правильные ответы (число после P - количество угаданых ответов):\n",
    "x = np.array([0, 1, 2, 3, 4, 5])\n",
    "x"
   ]
  },
  {
   "cell_type": "code",
   "execution_count": 4,
   "metadata": {},
   "outputs": [],
   "source": [
    "#Вероятности выбрать правильные ответы (число после P - количество угаданых ответов):\n",
    "p0 = binom(5, 0, 0.25)\n",
    "p1 = binom(5, 1, 0.25)\n",
    "p2 = binom(5, 2, 0.25) \n",
    "p3 = binom(5, 3, 0.25)\n",
    "p4 = binom(5, 4, 0.25)\n",
    "p5 = binom(5, 5, 0.25)"
   ]
  },
  {
   "cell_type": "code",
   "execution_count": 5,
   "metadata": {},
   "outputs": [
    {
     "data": {
      "text/plain": [
       "array([0.23730469, 0.39550781, 0.26367188, 0.08789062, 0.01464844,\n",
       "       0.00097656])"
      ]
     },
     "execution_count": 5,
     "metadata": {},
     "output_type": "execute_result"
    }
   ],
   "source": [
    "p = np.array([p0, p1, p2, p3, p4, p5])\n",
    "p"
   ]
  },
  {
   "cell_type": "code",
   "execution_count": 6,
   "metadata": {},
   "outputs": [
    {
     "data": {
      "text/plain": [
       "1.25"
      ]
     },
     "execution_count": 6,
     "metadata": {},
     "output_type": "execute_result"
    }
   ],
   "source": [
    "#Мат ожидание\n",
    "M = x.dot(p)\n",
    "M"
   ]
  },
  {
   "cell_type": "code",
   "execution_count": 7,
   "metadata": {},
   "outputs": [
    {
     "data": {
      "text/plain": [
       "0.9375"
      ]
     },
     "execution_count": 7,
     "metadata": {},
     "output_type": "execute_result"
    }
   ],
   "source": [
    "#Дисперсия\n",
    "D = ((x - x.dot(p))**2).dot(p)\n",
    "D"
   ]
  },
  {
   "cell_type": "markdown",
   "metadata": {},
   "source": [
    "### Задание 2."
   ]
  },
  {
   "cell_type": "markdown",
   "metadata": {},
   "source": [
    "Пользователь получает в среднем 10 писем со спамом на свой почтовый ящик за сутки. Найти число N, такое, что с вероятностью 0.95 пользователь получит не более N писем со спамом за текущий день."
   ]
  },
  {
   "cell_type": "code",
   "execution_count": 8,
   "metadata": {},
   "outputs": [],
   "source": [
    "def poisson_proba(k: int, lambda_: float) -> float:\n",
    "    \"\"\"Формула Пуассона.\n",
    "    \"\"\"\n",
    "    \n",
    "    return (lambda_ ** k) * (np.exp(-lambda_)) / np.math.factorial(k)"
   ]
  },
  {
   "cell_type": "code",
   "execution_count": 9,
   "metadata": {},
   "outputs": [
    {
     "name": "stdout",
     "output_type": "stream",
     "text": [
      "N = 15; p = 0.9165415270653373\n"
     ]
    }
   ],
   "source": [
    "lambda_ = 10 # в среднем 10 писем со спамом за сутки\n",
    "i = 0 # Количество писем в день\n",
    "while True:\n",
    "    p = sum(poisson_proba(k=j, lambda_=lambda_) for j in range(i)) # Расчет вероятности при i количестве спама\n",
    "    if (p > 0.95): # Как только вероятность превышает 0,95 берем предыдущее i и останавливаемся\n",
    "        i -= 1\n",
    "        p = sum(poisson_proba(k=j, lambda_=lambda_) for j in range(i))\n",
    "        print(f\"N = {i}; p = {p}\")\n",
    "        break\n",
    "    else:\n",
    "        i += 1"
   ]
  },
  {
   "cell_type": "markdown",
   "metadata": {},
   "source": [
    "### Задание 3."
   ]
  },
  {
   "cell_type": "markdown",
   "metadata": {},
   "source": [
    "Производятся выстрелы по мишени. Вероятность попадания в мишень при одном выстреле равна 0.01. Сколько выстрелов нужно сделать чтобы быть уверенным с вероятностью 0.9, что хотя бы 6 раз будет совершено попадание?\n",
    "\n",
    "Подсказка. Здесь предстоит немножко покодить."
   ]
  },
  {
   "cell_type": "code",
   "execution_count": 10,
   "metadata": {},
   "outputs": [
    {
     "name": "stdout",
     "output_type": "stream",
     "text": [
      "Нужно сделать 926 выстрелов; p = 0.9003627121531355\n"
     ]
    }
   ],
   "source": [
    "p = 0.01 # Вероятность попадания в мишень при одном выстреле\n",
    "P_A_aim = 0.9 #Требуемая вероятность\n",
    "k = 6 # Минимальное количество успехов\n",
    "i = 0\n",
    "while True:\n",
    "    P_A = sum(binom(n= k+i, k=j, p=p) for j in range(k)) # Расчет вероятности получить от 0 до 5 успехов\n",
    "    if (P_A <= 1 - P_A_aim): # Как только вероятность получить от 0 до 5 успехов оказывается ниже или равна 0,1 останавливаемся\n",
    "        print(f\"Нужно сделать {k + i} выстрелов; p = {1 - P_A}\")\n",
    "        break\n",
    "    else:\n",
    "        i += 1"
   ]
  },
  {
   "cell_type": "code",
   "execution_count": null,
   "metadata": {},
   "outputs": [],
   "source": []
  }
 ],
 "metadata": {
  "kernelspec": {
   "display_name": "Python 3",
   "language": "python",
   "name": "python3"
  },
  "language_info": {
   "codemirror_mode": {
    "name": "ipython",
    "version": 3
   },
   "file_extension": ".py",
   "mimetype": "text/x-python",
   "name": "python",
   "nbconvert_exporter": "python",
   "pygments_lexer": "ipython3",
   "version": "3.7.3"
  }
 },
 "nbformat": 4,
 "nbformat_minor": 2
}
