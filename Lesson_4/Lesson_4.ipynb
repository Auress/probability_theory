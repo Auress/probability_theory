{
 "cells": [
  {
   "cell_type": "markdown",
   "metadata": {},
   "source": [
    "### Урок 4. Непрерывные случайные величины. Функция распределения и плотность распределения вероятностей. Равномерное и нормальное распределение. Центральная предельная теорема#"
   ]
  },
  {
   "cell_type": "markdown",
   "metadata": {},
   "source": [
    "### -- Автор: Шенк Евгений Станиславович"
   ]
  },
  {
   "cell_type": "code",
   "execution_count": 1,
   "metadata": {},
   "outputs": [],
   "source": [
    "import warnings\n",
    "\n",
    "import math\n",
    "import numpy as np\n",
    "import pandas as pd\n",
    "from matplotlib import pyplot as plt\n",
    "from scipy.optimize import fsolve\n",
    "from scipy import stats\n",
    "\n",
    "plt.style.use('seaborn-whitegrid')\n",
    "warnings.filterwarnings('ignore')"
   ]
  },
  {
   "cell_type": "markdown",
   "metadata": {},
   "source": [
    "### Задание 1."
   ]
  },
  {
   "cell_type": "markdown",
   "metadata": {},
   "source": [
    "О непрерывной равномерно распределённой случайной величине B известно, что её дисперсия равна 0.2. Можно ли найти правую границу величины B и её среднее значение зная, что левая граница равна 0.5? Если да, найдите их."
   ]
  },
  {
   "cell_type": "markdown",
   "metadata": {},
   "source": [
    "$$M(X) = \\dfrac{a + b}{2}, \\:\\: D(X) = \\dfrac{(b - a)^2}{12}.$$"
   ]
  },
  {
   "cell_type": "markdown",
   "metadata": {},
   "source": [
    "Создаем функцию для поиска зачения В зная А и дисперсию:"
   ]
  },
  {
   "cell_type": "code",
   "execution_count": 2,
   "metadata": {},
   "outputs": [],
   "source": [
    "def func(x):\n",
    "    return x**2 - x - 2.15"
   ]
  },
  {
   "cell_type": "code",
   "execution_count": 3,
   "metadata": {},
   "outputs": [
    {
     "data": {
      "text/plain": [
       "array([2.04919334])"
      ]
     },
     "execution_count": 3,
     "metadata": {},
     "output_type": "execute_result"
    }
   ],
   "source": [
    "x = fsolve(func, 0.5)\n",
    "x"
   ]
  },
  {
   "cell_type": "markdown",
   "metadata": {},
   "source": [
    "b = 2.04919334"
   ]
  },
  {
   "cell_type": "code",
   "execution_count": 4,
   "metadata": {},
   "outputs": [],
   "source": [
    "a = 0.5\n",
    "b = x\n",
    "\n",
    "samples = np.random.uniform(a, b, size=1000000)"
   ]
  },
  {
   "cell_type": "markdown",
   "metadata": {},
   "source": [
    "Находим среднее значение:"
   ]
  },
  {
   "cell_type": "code",
   "execution_count": 5,
   "metadata": {},
   "outputs": [
    {
     "data": {
      "text/plain": [
       "1.2740466472660414"
      ]
     },
     "execution_count": 5,
     "metadata": {},
     "output_type": "execute_result"
    }
   ],
   "source": [
    "samples.mean()"
   ]
  },
  {
   "cell_type": "markdown",
   "metadata": {},
   "source": [
    "Проверка:"
   ]
  },
  {
   "cell_type": "code",
   "execution_count": 6,
   "metadata": {},
   "outputs": [
    {
     "data": {
      "text/plain": [
       "0.20003623555050115"
      ]
     },
     "execution_count": 6,
     "metadata": {},
     "output_type": "execute_result"
    }
   ],
   "source": [
    "samples.var(ddof=1)"
   ]
  },
  {
   "cell_type": "markdown",
   "metadata": {},
   "source": [
    "### Задание 2."
   ]
  },
  {
   "cell_type": "markdown",
   "metadata": {},
   "source": [
    "Коробки с шоколадом упаковываются автоматически. Их средняя масса равна 1.06 кг. Известно, что 5% коробок имеют массу, меньшую 1 кг. Найдите: а) среднее квадратическое отклонение массы коробки, б) процент коробок, имеющих массу больше 1.1 кг.\n",
    "\n",
    "Подсказка. Найдите такое значение scale, для которого значение cdf(x=1, loc=1.06, scale=scale) близко к 0.05. Точности 0.0001 будет достаточно."
   ]
  },
  {
   "cell_type": "markdown",
   "metadata": {},
   "source": [
    "Найдите: а) среднее квадратическое отклонение массы коробки"
   ]
  },
  {
   "cell_type": "code",
   "execution_count": 7,
   "metadata": {},
   "outputs": [],
   "source": [
    "target_norm = 0.05"
   ]
  },
  {
   "cell_type": "code",
   "execution_count": 8,
   "metadata": {},
   "outputs": [
    {
     "name": "stdout",
     "output_type": "stream",
     "text": [
      "norm=0.04993720760298726; scale=0.03646390624506175\n"
     ]
    }
   ],
   "source": [
    "epsilon = 0.0001 # точность\n",
    "scale = 1 # начальное отклонение\n",
    "norm = stats.norm.cdf(x=1, loc=1.06, scale=scale)\n",
    "while True:\n",
    "    if norm - target_norm > epsilon:\n",
    "        scale *= 0.5\n",
    "    if norm - target_norm < -epsilon:\n",
    "        scale *= 1.5\n",
    "    norm = stats.norm.cdf(x=1, loc=1.06, scale=scale)\n",
    "    if abs(norm - target_norm) < epsilon:\n",
    "        break\n",
    "print (f'norm={norm}; scale={scale}')"
   ]
  },
  {
   "cell_type": "code",
   "execution_count": 9,
   "metadata": {},
   "outputs": [
    {
     "name": "stdout",
     "output_type": "stream",
     "text": [
      "Ответ: 0.03646390624506175\n"
     ]
    }
   ],
   "source": [
    "print(f'Ответ: {scale}')"
   ]
  },
  {
   "cell_type": "markdown",
   "metadata": {},
   "source": [
    "б) процент коробок, имеющих массу больше 1.1 кг"
   ]
  },
  {
   "cell_type": "code",
   "execution_count": 10,
   "metadata": {},
   "outputs": [
    {
     "name": "stdout",
     "output_type": "stream",
     "text": [
      "Ответ: 13.63%\n"
     ]
    }
   ],
   "source": [
    "norm_2 = 1 - stats.norm.cdf(x=1.1, loc=1.06, scale=scale)\n",
    "print(f'Ответ: {round(norm_2*100, 2)}%')"
   ]
  },
  {
   "cell_type": "markdown",
   "metadata": {},
   "source": [
    "### Задание 3."
   ]
  },
  {
   "cell_type": "markdown",
   "metadata": {},
   "source": [
    "Коробка содержит 30 конфет. Известно, что масса каждой конфеты распределена равномерно в промежутке от 12 до 14 граммов. Используя центральную предельную теорему, найти вероятность, что масса всей коробки будет: а) меньше 390 граммов, б) больше 395 граммов, в) от 380 до 400 граммов.\n",
    "\n",
    "Массой самой коробки можно пренебречь."
   ]
  },
  {
   "cell_type": "code",
   "execution_count": 11,
   "metadata": {},
   "outputs": [],
   "source": [
    "n = 30\n",
    "a = 12\n",
    "b = 14"
   ]
  },
  {
   "cell_type": "markdown",
   "metadata": {},
   "source": [
    "Для начала создадим выборку случайных значений"
   ]
  },
  {
   "cell_type": "code",
   "execution_count": 12,
   "metadata": {},
   "outputs": [],
   "source": [
    "def get_samples_uniform(n: int, n_samples: int, a: int, b: int) -> np.ndarray:\n",
    "    \"\"\"Возвращает выборку размера `n_samples` из суммы значений равномерно распределённых\n",
    "    случайных величин взятых `n` раз.\n",
    "    \"\"\"\n",
    "    \n",
    "    samples = np.random.uniform(a, b, size=(n, n_samples))\n",
    "    \n",
    "    return sum(samples)"
   ]
  },
  {
   "cell_type": "code",
   "execution_count": 13,
   "metadata": {},
   "outputs": [
    {
     "data": {
      "text/plain": [
       "array([389.18280674, 387.90746163, 389.98782   , ..., 392.23010947,\n",
       "       392.22447768, 384.92465846])"
      ]
     },
     "execution_count": 13,
     "metadata": {},
     "output_type": "execute_result"
    }
   ],
   "source": [
    "result = get_samples_uniform(n=n, n_samples=10000, a=a, b=b)\n",
    "result"
   ]
  },
  {
   "cell_type": "code",
   "execution_count": 14,
   "metadata": {
    "scrolled": false
   },
   "outputs": [
    {
     "data": {
      "text/plain": [
       "(array([0.0001748 , 0.00052439, 0.00148577, 0.00367073, 0.00987601,\n",
       "        0.01922763, 0.03731908, 0.06074183, 0.08958328, 0.11283123,\n",
       "        0.12690236, 0.11816253, 0.10688814, 0.0781341 , 0.05235159,\n",
       "        0.02971543, 0.0155569 , 0.00804065, 0.00192276, 0.00087398]),\n",
       " array([377.6333528 , 378.77753957, 379.92172633, 381.0659131 ,\n",
       "        382.21009986, 383.35428663, 384.49847339, 385.64266016,\n",
       "        386.78684692, 387.93103369, 389.07522045, 390.21940722,\n",
       "        391.36359398, 392.50778075, 393.65196752, 394.79615428,\n",
       "        395.94034105, 397.08452781, 398.22871458, 399.37290134,\n",
       "        400.51708811]),\n",
       " <a list of 20 Patch objects>)"
      ]
     },
     "execution_count": 14,
     "metadata": {},
     "output_type": "execute_result"
    },
    {
     "data": {
      "image/png": "[encoded data removed]",
      "text/plain": [
       "<Figure size 432x288 with 1 Axes>"
      ]
     },
     "metadata": {
      "needs_background": "light"
     },
     "output_type": "display_data"
    }
   ],
   "source": [
    "# Строим гасторамму для визуализации распределения\n",
    "plt.hist(result, density=True, bins=20)"
   ]
  },
  {
   "cell_type": "markdown",
   "metadata": {},
   "source": [
    "Используем центральную предельную теорему: при большой выборке распределение нашей величины становится всё ближе к нормальному распределению с параметрами: $$a = M(X), \\:\\: \\sigma^2 = \\dfrac{D(X)}{n}$$\n",
    "$$M(X) = \\dfrac{a + b}{2}, D(X) = \\dfrac{(b - a)^2}{12}$$"
   ]
  },
  {
   "cell_type": "code",
   "execution_count": 15,
   "metadata": {},
   "outputs": [
    {
     "data": {
      "text/plain": [
       "0.5"
      ]
     },
     "execution_count": 15,
     "metadata": {},
     "output_type": "execute_result"
    }
   ],
   "source": [
    "# найти вероятность, что масса всей коробки будет: а) меньше 390 граммов\n",
    "norm_less_390 = stats.norm.cdf(x=390/n, loc=((a+b)/2), scale=np.sqrt(((b-a)**2)/(12*n)))\n",
    "norm_less_390"
   ]
  },
  {
   "cell_type": "code",
   "execution_count": 16,
   "metadata": {},
   "outputs": [
    {
     "data": {
      "text/plain": [
       "0.05692314900332973"
      ]
     },
     "execution_count": 16,
     "metadata": {},
     "output_type": "execute_result"
    }
   ],
   "source": [
    "# найти вероятность, что масса всей коробки будет: б) больше 395 граммов\n",
    "norm_more_395 = 1 - stats.norm.cdf(x=395/n, loc=((a+b)/2), scale=np.sqrt(((b-a)**2)/(12*n)))\n",
    "norm_more_395"
   ]
  },
  {
   "cell_type": "code",
   "execution_count": 17,
   "metadata": {},
   "outputs": [
    {
     "data": {
      "text/plain": [
       "0.9984345977419975"
      ]
     },
     "execution_count": 17,
     "metadata": {},
     "output_type": "execute_result"
    }
   ],
   "source": [
    "# найти вероятность, что масса всей коробки будет: в) от 380 до 400 граммов\n",
    "norm_less_380 = stats.norm.cdf(x=380/n, loc=((a+b)/2), scale=np.sqrt(((b-a)**2)/(12*n)))\n",
    "norm_more_400 = 1 - stats.norm.cdf(x=400/n, loc=((a+b)/2), scale=np.sqrt(((b-a)**2)/(12*n)))\n",
    "norm_380_to_400 = 1 - norm_less_380 - norm_more_400\n",
    "norm_380_to_400"
   ]
  },
  {
   "cell_type": "code",
   "execution_count": null,
   "metadata": {},
   "outputs": [],
   "source": []
  }
 ],
 "metadata": {
  "kernelspec": {
   "display_name": "Python 3",
   "language": "python",
   "name": "python3"
  },
  "language_info": {
   "codemirror_mode": {
    "name": "ipython",
    "version": 3
   },
   "file_extension": ".py",
   "mimetype": "text/x-python",
   "name": "python",
   "nbconvert_exporter": "python",
   "pygments_lexer": "ipython3",
   "version": "3.7.3"
  }
 },
 "nbformat": 4,
 "nbformat_minor": 2
}
